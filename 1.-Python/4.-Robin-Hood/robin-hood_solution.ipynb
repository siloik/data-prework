{
 "cells": [
  {
   "cell_type": "markdown",
   "metadata": {},
   "source": [
    "<img src=\"https://bit.ly/2VnXWr2\" width=\"100\" align=\"left\"/>"
   ]
  },
  {
   "cell_type": "markdown",
   "metadata": {},
   "source": [
    "# Robin Hood\n",
    "Robin Hood has entered a competition to win the archery contest in Sherwood. With his bow and arrows, he needs to shoot on a target and try to hit as close as possible to the center.\n",
    "\n",
    "![](images/arrows.jpg)\n",
    "\n",
    "## Context\n",
    "In this challenge, the landing position of arrows shot by archers in the competition will be represented using 2-dimensional coordinates. \n",
    "\n",
    "In the 2-dimensional space, a point can be defined by a pair of values that correspond to the horizontal coordinate (x) and the vertical coordinate (y). For example, in our case, an arrow that hits the center of the archery target will land in position (0, 0) on the coordinate axes. \n",
    "\n",
    "The space can be divided into 4 zones (quadrants): Q1, Q2, Q3, Q4. If a point is in Q1, both its x coordinate and y coordinate are positive. Any point with a null x or y coordinate is considered to not belong to any quadrant. \n",
    "\n",
    "If you want to know more about the cartesian coordinate system, you can check this [link](https://en.wikipedia.org/wiki/Cartesian_coordinate_system). \n",
    "\n",
    "## Tools\n",
    "You don't necessarily need to use all the tools. Maybe you opt to use some of them or completely different ones, they are given to help you shape the exercise. Programming exercises can be solved in many different ways.\n",
    "* Data structures: **lists, sets, tuples**\n",
    "* Conditional statements: **if-elif-else**\n",
    "* Loop: **while/for**\n",
    "* Minimum (optional sorting)\n",
    "\n",
    "## Tasks\n",
    "Robin Hood has hit the following points:"
   ]
  },
  {
   "cell_type": "code",
   "execution_count": 1,
   "metadata": {},
   "outputs": [],
   "source": [
    "points = [(4, 5), (-0, 2), (4, 7), (1, -3), (3, -2), (4, 5), (3, 2), (5, 7), (-5, 7), (2, 2), (-4, 5), (0, -2),\n",
    "          (-4, 7), (-1, 3), (-3, 2), (-4, -5), (-3, 2), (5, 7), (5, 7), (2, 2), (9, 9), (-8, -9)]"
   ]
  },
  {
   "cell_type": "markdown",
   "metadata": {},
   "source": [
    "#### 1. Robin Hood is famous for hitting an arrow with another arrow. Find the coordinates of the points where an arrow hits another arrow."
   ]
  },
  {
   "cell_type": "code",
   "execution_count": 3,
   "metadata": {},
   "outputs": [
    {
     "name": "stdout",
     "output_type": "stream",
     "text": [
      "{(-3, 2), (4, 5), (5, 7), (2, 2)}\n"
     ]
    }
   ],
   "source": [
    "points.sort()\n",
    "\n",
    "list_of_duplicates = []\n",
    "\n",
    "for i in range(len(points) - 1): \n",
    "    if points[i] == points[i+1]: \n",
    "        list_of_duplicates.append(points[i])\n",
    "\n",
    "set_of_duplicates = set(list_of_duplicates)\n",
    "\n",
    "print(set_of_duplicates)"
   ]
  },
  {
   "cell_type": "markdown",
   "metadata": {},
   "source": [
    "#### 2. Calculate how many arrows have fallen in each quadrant. \n",
    "**Note**: the arrows that fall in the axis (x=0 or y=0) don't belong to any quadrant."
   ]
  },
  {
   "cell_type": "code",
   "execution_count": 9,
   "metadata": {},
   "outputs": [
    {
     "name": "stdout",
     "output_type": "stream",
     "text": [
      "arrows in the 1st quadrant: 10\n",
      "arrows in the 2nd quadrant: 6\n",
      "arrows in the 3rd quadrant: 2\n",
      "arrows in the 4th quadrant: 2\n"
     ]
    }
   ],
   "source": [
    "quadrant1 = 0\n",
    "quadrant2 = 0\n",
    "quadrant3 = 0\n",
    "quadrant4 = 0\n",
    "no_quadrant = 0\n",
    "\n",
    "for i in points:\n",
    "    if i[0] > 0 and i[1] > 0:\n",
    "        quadrant1 = quadrant1 +1\n",
    "    elif i[0] < 0 and i[1] > 0:\n",
    "        quadrant2 = quadrant2 +1\n",
    "    elif i[0] < 0 and i[1] < 0:\n",
    "        quadrant3 = quadrant3 +1\n",
    "    elif i[0] > 0 and i[1] < 0:\n",
    "        quadrant4 = quadrant4 +1\n",
    "    else:\n",
    "        no_quadrant += 1\n",
    "\n",
    "print('arrows in the 1st quadrant: ' + str(quadrant1))\n",
    "print('arrows in the 2nd quadrant: ' + str(quadrant2))\n",
    "print('arrows in the 3rd quadrant: ' + str(quadrant3))\n",
    "print('arrows in the 4th quadrant: ' + str(quadrant4))"
   ]
  },
  {
   "cell_type": "markdown",
   "metadata": {},
   "source": [
    "#### 3. Find the point closest to the center. Calculate its distance to the center. \n",
    "Take into account that there might be more than one point at the minimum distance to the center.\n",
    "\n",
    "**Hint**: Use the Euclidean distance. You can find more information about it [here](https://en.wikipedia.org/wiki/Euclidean_distance).  \n",
    "**Hint**: Defining a function that calculates the distance to the center can help."
   ]
  },
  {
   "cell_type": "code",
   "execution_count": 16,
   "metadata": {
    "scrolled": true
   },
   "outputs": [
    {
     "name": "stdout",
     "output_type": "stream",
     "text": [
      "more than 1 point is closest to the center, distance to the center: 2.0\n"
     ]
    }
   ],
   "source": [
    "import math\n",
    "\n",
    "def calc_euc_dist(coor):\n",
    "    return math.sqrt(pow(coor[0], 2) + pow(coor[1], 2))\n",
    "\n",
    "euc_distances = []\n",
    "for item in points:\n",
    "    result = calc_euc_dist(item)\n",
    "    euc_distances.append(result)\n",
    "\n",
    "\n",
    "min_euc_distance = min(euc_distances)\n",
    "point_of_min_distance = []\n",
    "\n",
    "for item in euc_distances:\n",
    "    if item == min_euc_distance:\n",
    "        point_of_min_distance.append(item)\n",
    "\n",
    "if len(point_of_min_distance) == 1:\n",
    "    print('point closest to the center: ' + point_of_min_distance[0] + ', distance to the center: ' + str(min_euc_distance) + '.')\n",
    "else:\n",
    "    print('more than 1 point is closest to the center, distance to the center: ' + str(min_euc_distance))"
   ]
  },
  {
   "cell_type": "markdown",
   "metadata": {},
   "source": [
    "#### 4. If the archery target has a radius of 9, calculate the number of arrows that won't hit the target. \n",
    "**Hint**: Use the function created in step 3. "
   ]
  },
  {
   "cell_type": "code",
   "execution_count": 17,
   "metadata": {},
   "outputs": [
    {
     "name": "stdout",
     "output_type": "stream",
     "text": [
      "arrows that will miss the target: 2\n"
     ]
    }
   ],
   "source": [
    "arrows_missing_target = 0\n",
    "\n",
    "for item in euc_distances:\n",
    "    if item > 9:\n",
    "        arrows_missing_target += 1\n",
    "\n",
    "print('arrows that will miss the target: ' + str(arrows_missing_target))"
   ]
  },
  {
   "cell_type": "code",
   "execution_count": null,
   "metadata": {},
   "outputs": [],
   "source": []
  }
 ],
 "metadata": {
  "kernelspec": {
   "display_name": "Python 3",
   "language": "python",
   "name": "python3"
  },
  "language_info": {
   "codemirror_mode": {
    "name": "ipython",
    "version": 3
   },
   "file_extension": ".py",
   "mimetype": "text/x-python",
   "name": "python",
   "nbconvert_exporter": "python",
   "pygments_lexer": "ipython3",
   "version": "3.9.0"
  }
 },
 "nbformat": 4,
 "nbformat_minor": 2
}
